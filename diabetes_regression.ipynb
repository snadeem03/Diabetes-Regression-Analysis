{
 "cells": [
  {
   "cell_type": "markdown",
   "metadata": {},
   "source": [
    "# A linear regression model for predicting whether a person is having diabetes or not inbuilt dataset in sklearn"
   ]
  },
  {
   "cell_type": "code",
   "execution_count": 34,
   "metadata": {},
   "outputs": [],
   "source": [
    "\n",
    "# importing libraries \n",
    "\n",
    "import numpy \n",
    "import matplotlib.pyplot as plt\n",
    "from sklearn import datasets\n",
    "from sklearn.model_selection import train_test_split\n",
    "from sklearn.linear_model import LinearRegression\n",
    "import pandas as pd\n",
    "from sklearn.metrics import mean_squared_error, r2_score"
   ]
  },
  {
   "cell_type": "code",
   "execution_count": 3,
   "metadata": {},
   "outputs": [],
   "source": [
    "# loading the diabetes dataset \n",
    "diabetes_data=datasets.load_diabetes()"
   ]
  },
  {
   "cell_type": "code",
   "execution_count": 21,
   "metadata": {},
   "outputs": [
    {
     "name": "stdout",
     "output_type": "stream",
     "text": [
      "['age', 'sex', 'bmi', 'bp', 's1', 's2', 's3', 's4', 's5', 's6']\n"
     ]
    }
   ],
   "source": [
    "# acquiring the information about the dataset\n",
    "print(diabetes_data.feature_names)\n",
    "# age - age in years \n",
    "# sex -  male or female\n",
    "# bmi - body mass index\n",
    "# bp - average blood pressure\n",
    "# s1 - tc, total serum cholesterol\n",
    "# s2 - ldl, low-density lipoproteins\n",
    "# s3 - hdl, high-density lipoproteins\n",
    "# s4 - tch, total cholesterol / HDL\n",
    "# s5 - ltg, possibly log of serum triglycerides level\n",
    "# s6 - glu, blood sugar level\n"
   ]
  },
  {
   "cell_type": "code",
   "execution_count": 24,
   "metadata": {},
   "outputs": [],
   "source": [
    "# converting the dataset into a pandas dataframe \n",
    "\n",
    "# creating a dataframe for the features\n",
    "diabetes_data_pf=pd.DataFrame(diabetes_data.data,columns=diabetes_data.feature_names)\n",
    "\n",
    "# creating a dataframe for the target\n",
    "diabetes_target_pf=pd.DataFrame(diabetes_data.target,columns=['Disease Progression'])"
   ]
  },
  {
   "cell_type": "code",
   "execution_count": 26,
   "metadata": {},
   "outputs": [
    {
     "name": "stdout",
     "output_type": "stream",
     "text": [
      "(442, 10)\n",
      "(442, 1)\n"
     ]
    }
   ],
   "source": [
    "# calculating the shapes of the dataframes \n",
    "print(diabetes_data_pf.shape)\n",
    "print(diabetes_target_pf.shape)"
   ]
  },
  {
   "cell_type": "code",
   "execution_count": 27,
   "metadata": {},
   "outputs": [],
   "source": [
    "# splitting the dataset into training and testing sets; perform 80-20 split\n",
    "X_train,X_test,y_train,y_test=train_test_split(diabetes_data_pf,diabetes_target_pf,test_size=0.2)\n"
   ]
  },
  {
   "cell_type": "code",
   "execution_count": 29,
   "metadata": {},
   "outputs": [
    {
     "data": {
      "text/html": [
       "<style>#sk-container-id-1 {color: black;}#sk-container-id-1 pre{padding: 0;}#sk-container-id-1 div.sk-toggleable {background-color: white;}#sk-container-id-1 label.sk-toggleable__label {cursor: pointer;display: block;width: 100%;margin-bottom: 0;padding: 0.3em;box-sizing: border-box;text-align: center;}#sk-container-id-1 label.sk-toggleable__label-arrow:before {content: \"▸\";float: left;margin-right: 0.25em;color: #696969;}#sk-container-id-1 label.sk-toggleable__label-arrow:hover:before {color: black;}#sk-container-id-1 div.sk-estimator:hover label.sk-toggleable__label-arrow:before {color: black;}#sk-container-id-1 div.sk-toggleable__content {max-height: 0;max-width: 0;overflow: hidden;text-align: left;background-color: #f0f8ff;}#sk-container-id-1 div.sk-toggleable__content pre {margin: 0.2em;color: black;border-radius: 0.25em;background-color: #f0f8ff;}#sk-container-id-1 input.sk-toggleable__control:checked~div.sk-toggleable__content {max-height: 200px;max-width: 100%;overflow: auto;}#sk-container-id-1 input.sk-toggleable__control:checked~label.sk-toggleable__label-arrow:before {content: \"▾\";}#sk-container-id-1 div.sk-estimator input.sk-toggleable__control:checked~label.sk-toggleable__label {background-color: #d4ebff;}#sk-container-id-1 div.sk-label input.sk-toggleable__control:checked~label.sk-toggleable__label {background-color: #d4ebff;}#sk-container-id-1 input.sk-hidden--visually {border: 0;clip: rect(1px 1px 1px 1px);clip: rect(1px, 1px, 1px, 1px);height: 1px;margin: -1px;overflow: hidden;padding: 0;position: absolute;width: 1px;}#sk-container-id-1 div.sk-estimator {font-family: monospace;background-color: #f0f8ff;border: 1px dotted black;border-radius: 0.25em;box-sizing: border-box;margin-bottom: 0.5em;}#sk-container-id-1 div.sk-estimator:hover {background-color: #d4ebff;}#sk-container-id-1 div.sk-parallel-item::after {content: \"\";width: 100%;border-bottom: 1px solid gray;flex-grow: 1;}#sk-container-id-1 div.sk-label:hover label.sk-toggleable__label {background-color: #d4ebff;}#sk-container-id-1 div.sk-serial::before {content: \"\";position: absolute;border-left: 1px solid gray;box-sizing: border-box;top: 0;bottom: 0;left: 50%;z-index: 0;}#sk-container-id-1 div.sk-serial {display: flex;flex-direction: column;align-items: center;background-color: white;padding-right: 0.2em;padding-left: 0.2em;position: relative;}#sk-container-id-1 div.sk-item {position: relative;z-index: 1;}#sk-container-id-1 div.sk-parallel {display: flex;align-items: stretch;justify-content: center;background-color: white;position: relative;}#sk-container-id-1 div.sk-item::before, #sk-container-id-1 div.sk-parallel-item::before {content: \"\";position: absolute;border-left: 1px solid gray;box-sizing: border-box;top: 0;bottom: 0;left: 50%;z-index: -1;}#sk-container-id-1 div.sk-parallel-item {display: flex;flex-direction: column;z-index: 1;position: relative;background-color: white;}#sk-container-id-1 div.sk-parallel-item:first-child::after {align-self: flex-end;width: 50%;}#sk-container-id-1 div.sk-parallel-item:last-child::after {align-self: flex-start;width: 50%;}#sk-container-id-1 div.sk-parallel-item:only-child::after {width: 0;}#sk-container-id-1 div.sk-dashed-wrapped {border: 1px dashed gray;margin: 0 0.4em 0.5em 0.4em;box-sizing: border-box;padding-bottom: 0.4em;background-color: white;}#sk-container-id-1 div.sk-label label {font-family: monospace;font-weight: bold;display: inline-block;line-height: 1.2em;}#sk-container-id-1 div.sk-label-container {text-align: center;}#sk-container-id-1 div.sk-container {/* jupyter's `normalize.less` sets `[hidden] { display: none; }` but bootstrap.min.css set `[hidden] { display: none !important; }` so we also need the `!important` here to be able to override the default hidden behavior on the sphinx rendered scikit-learn.org. See: https://github.com/scikit-learn/scikit-learn/issues/21755 */display: inline-block !important;position: relative;}#sk-container-id-1 div.sk-text-repr-fallback {display: none;}</style><div id=\"sk-container-id-1\" class=\"sk-top-container\"><div class=\"sk-text-repr-fallback\"><pre>LinearRegression()</pre><b>In a Jupyter environment, please rerun this cell to show the HTML representation or trust the notebook. <br />On GitHub, the HTML representation is unable to render, please try loading this page with nbviewer.org.</b></div><div class=\"sk-container\" hidden><div class=\"sk-item\"><div class=\"sk-estimator sk-toggleable\"><input class=\"sk-toggleable__control sk-hidden--visually\" id=\"sk-estimator-id-1\" type=\"checkbox\" checked><label for=\"sk-estimator-id-1\" class=\"sk-toggleable__label sk-toggleable__label-arrow\">LinearRegression</label><div class=\"sk-toggleable__content\"><pre>LinearRegression()</pre></div></div></div></div></div>"
      ],
      "text/plain": [
       "LinearRegression()"
      ]
     },
     "execution_count": 29,
     "metadata": {},
     "output_type": "execute_result"
    }
   ],
   "source": [
    "# creating a linear regression model\n",
    "linear_regressor=LinearRegression()\n",
    "\n",
    "# fitting the model to the training data\n",
    "linear_regressor.fit(X_train,y_train)\n",
    "\n"
   ]
  },
  {
   "cell_type": "code",
   "execution_count": 32,
   "metadata": {},
   "outputs": [
    {
     "name": "stdout",
     "output_type": "stream",
     "text": [
      "[[ 40.85921834]\n",
      " [ 91.46295591]\n",
      " [ 68.91386298]\n",
      " [186.57216853]\n",
      " [247.39555018]\n",
      " [ 73.58736389]\n",
      " [161.35975795]\n",
      " [193.09594285]\n",
      " [195.66458811]\n",
      " [189.0080852 ]\n",
      " [199.90917405]\n",
      " [185.48194377]\n",
      " [ 69.4040315 ]\n",
      " [ 76.37008492]\n",
      " [160.91138654]\n",
      " [205.59454263]\n",
      " [113.65513248]\n",
      " [149.99812018]\n",
      " [193.4636049 ]\n",
      " [115.66373513]\n",
      " [ 67.65963523]\n",
      " [ 93.53498599]\n",
      " [116.39205008]\n",
      " [127.35663937]\n",
      " [164.67257764]\n",
      " [154.98730609]\n",
      " [191.36092925]\n",
      " [190.51927013]\n",
      " [ 79.09186497]\n",
      " [178.58366886]\n",
      " [ 56.48767856]\n",
      " [228.46557237]\n",
      " [192.79276761]\n",
      " [148.76420522]\n",
      " [ 80.47146149]\n",
      " [101.62456387]\n",
      " [119.3901639 ]\n",
      " [ 77.98979362]\n",
      " [201.99908277]\n",
      " [235.42364646]\n",
      " [ 75.07734745]\n",
      " [213.88177014]\n",
      " [ 85.74365262]\n",
      " [144.07440264]\n",
      " [101.97978724]\n",
      " [184.11175353]\n",
      " [121.46638658]\n",
      " [202.5559276 ]\n",
      " [191.61445024]\n",
      " [155.55896924]\n",
      " [141.27749225]\n",
      " [117.36376722]\n",
      " [ 76.80511859]\n",
      " [230.8081224 ]\n",
      " [198.7881273 ]\n",
      " [224.99792883]\n",
      " [187.37151522]\n",
      " [135.53107189]\n",
      " [181.30288558]\n",
      " [219.43428025]\n",
      " [126.5493529 ]\n",
      " [242.80510107]\n",
      " [227.13725395]\n",
      " [ 82.04540395]\n",
      " [200.52757401]\n",
      " [239.40905322]\n",
      " [232.18514834]\n",
      " [ 72.06439649]\n",
      " [ 59.03383514]\n",
      " [266.24872717]\n",
      " [130.96175085]\n",
      " [182.08731861]\n",
      " [151.93901748]\n",
      " [157.65797026]\n",
      " [174.82080062]\n",
      " [220.11643109]\n",
      " [121.36541525]\n",
      " [191.23851346]\n",
      " [ 97.75618989]\n",
      " [163.52274626]\n",
      " [174.16145375]\n",
      " [119.50577697]\n",
      " [246.9944146 ]\n",
      " [ 68.67758969]\n",
      " [ 95.82591671]\n",
      " [267.57256797]\n",
      " [148.80553666]\n",
      " [145.9625314 ]\n",
      " [180.9199162 ]]\n"
     ]
    }
   ],
   "source": [
    "\n",
    "# predicting the values of the target variable\n",
    "y_pred=linear_regressor.predict(X_test)\n",
    "print(y_pred)"
   ]
  },
  {
   "cell_type": "code",
   "execution_count": 35,
   "metadata": {},
   "outputs": [
    {
     "name": "stdout",
     "output_type": "stream",
     "text": [
      "3338.729315470101\n"
     ]
    }
   ],
   "source": [
    "\n",
    "# calculating the mean squared error\n",
    "mean_squared_error=mean_squared_error(y_test,y_pred)\n",
    "\n",
    "# printing the mean squared error\n",
    "print(mean_squared_error)\n",
    "\n"
   ]
  },
  {
   "cell_type": "code",
   "execution_count": 36,
   "metadata": {},
   "outputs": [
    {
     "name": "stdout",
     "output_type": "stream",
     "text": [
      "0.39450559670132934\n"
     ]
    }
   ],
   "source": [
    "# calculating the r2 score\n",
    "r2_score=r2_score(y_test,y_pred)\n",
    "\n",
    "# printing the r2 score\n",
    "print(r2_score)"
   ]
  },
  {
   "cell_type": "code",
   "execution_count": 37,
   "metadata": {},
   "outputs": [
    {
     "data": {
      "image/png": "[encoded data removed]",
      "text/plain": [
       "<Figure size 640x480 with 1 Axes>"
      ]
     },
     "metadata": {},
     "output_type": "display_data"
    }
   ],
   "source": [
    "\n",
    "# plotting the predicted values againist the actual values \n",
    "plt.scatter(y_test,y_pred)\n",
    "plt.xlabel('Actual values')\n",
    "plt.ylabel('Predicted values')\n",
    "plt.title('Actual vs Predicted values')\n",
    "plt.show()"
   ]
  },
  {
   "cell_type": "code",
   "execution_count": 44,
   "metadata": {},
   "outputs": [
    {
     "name": "stdout",
     "output_type": "stream",
     "text": [
      "HIGH\n"
     ]
    },
    {
     "name": "stderr",
     "output_type": "stream",
     "text": [
      "C:\\Users\\shaik\\AppData\\Roaming\\Python\\Python311\\site-packages\\sklearn\\base.py:464: UserWarning: X does not have valid feature names, but LinearRegression was fitted with feature names\n",
      "  warnings.warn(\n"
     ]
    }
   ],
   "source": [
    "# give the new value and let the model predict the disease progression\n",
    "new_value=[[0.0380759,0.0506801,0.0616962,0.0218724,-0.0442235,-0.0348208,-0.0434008,-0.00259226,0.0199084,-0.0176461]]\n",
    "new_value_pred=linear_regressor.predict(new_value)\n",
    "\n",
    "# categorzing the progression values as \"LOW\", \"MEDIUM\", \"HIGH\"\n",
    "if new_value_pred[0][0]<100:\n",
    "    print(\"LOW\")\n",
    "elif new_value_pred[0][0]>=100 and new_value_pred[0][0]<200:\n",
    "    print(\"MEDIUM\")\n",
    "else :\n",
    "    print(\"HIGH\")\n"
   ]
  },
  {
   "cell_type": "code",
   "execution_count": null,
   "metadata": {},
   "outputs": [],
   "source": []
  }
 ],
 "metadata": {
  "kernelspec": {
   "display_name": "Python 3",
   "language": "python",
   "name": "python3"
  },
  "language_info": {
   "codemirror_mode": {
    "name": "ipython",
    "version": 3
   },
   "file_extension": ".py",
   "mimetype": "text/x-python",
   "name": "python",
   "nbconvert_exporter": "python",
   "pygments_lexer": "ipython3",
   "version": "3.11.4"
  }
 },
 "nbformat": 4,
 "nbformat_minor": 2
}
